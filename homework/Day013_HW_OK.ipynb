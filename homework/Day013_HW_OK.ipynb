{
 "cells": [
  {
   "cell_type": "markdown",
   "metadata": {},
   "source": [
    "# PTT 網路爬蟲實作練習\n",
    "\n",
    "\n",
    "* 能夠利用 Request + BeatifulSour 撰寫爬蟲，並存放到合適的資料結構\n"
   ]
  },
  {
   "cell_type": "markdown",
   "metadata": {},
   "source": [
    "## 作業目標\n",
    "\n",
    "根據範例 ，完成以下問題：\n",
    "\n",
    "* ① 印出最新文章的「作者」「標題」「時間」\n",
    "* ② 印出第一頁所有文章的「作者」「標題」「時間」\n"
   ]
  },
  {
   "cell_type": "markdown",
   "metadata": {},
   "source": [
    "### ① 印出最新文章的「作者」「標題」「時間」"
   ]
  },
  {
   "cell_type": "code",
   "execution_count": 43,
   "metadata": {},
   "outputs": [
    {
     "name": "stdout",
     "output_type": "stream",
     "text": [
      "最新文章標題：Re: [討論] 為什麼是KI出來發聲反對複賽\n",
      "最新文章作者：gogostars\n",
      "最新文章時間： 6/16\n"
     ]
    }
   ],
   "source": [
    "'''\n",
    "Your Code\n",
    "'''\n",
    "import requests\n",
    "from bs4 import BeautifulSoup\n",
    "\n",
    "url = 'https://www.ptt.cc/bbs/NBA/index.html'\n",
    "r = requests.get(url)\n",
    "\n",
    "soup = BeautifulSoup(r.text, \"html5lib\")\n",
    "\n",
    "print('最新文章標題：'+soup.find_all(class_ = 'title')[0].text.replace('\\t', '').replace('\\n', ''))\n",
    "print('最新文章作者：'+soup.find_all(class_ = 'author')[0].text)\n",
    "print('最新文章時間：'+soup.find_all(class_ = 'date')[0].text)"
   ]
  },
  {
   "cell_type": "markdown",
   "metadata": {},
   "source": [
    "### ② 印出第一頁所有文章的「作者」「標題」「時間」"
   ]
  },
  {
   "cell_type": "code",
   "execution_count": 44,
   "metadata": {},
   "outputs": [
    {
     "name": "stdout",
     "output_type": "stream",
     "text": [
      "標題Re: [討論] 為什麼是KI出來發聲反對複賽\n",
      "作者gogostars\n",
      "時間 6/16\n",
      "標題[花邊] 湖人影片博主被湖人聘任，Jeanie Bus轉發\n",
      "作者ckny\n",
      "時間 6/16\n",
      "標題Re: [新聞] Kobe屍骨未寒 美媒爆多名球星狂追百億遺\n",
      "作者l3cm\n",
      "時間 6/16\n",
      "標題Re: [花邊] 談公牛第6冠球季　Jordan：難熬的1年\n",
      "作者Xavier412958\n",
      "時間 6/16\n",
      "標題(本文已被刪除) [a27938686]\n",
      "作者-\n",
      "時間 6/16\n",
      "標題[情報] 球員同盟聲明:我們已經受夠天賦被人利用\n",
      "作者whoAU\n",
      "時間 6/16\n",
      "標題[花邊] 詹姆斯拚冠挺復賽 部分球隊高層:這攸關他歷史定位\n",
      "作者thnlkj0665\n",
      "時間 6/16\n",
      "標題[公告] 板規v6.8\n",
      "作者Vedan\n",
      "時間 5/24\n",
      "標題[公告] 版主上任相關事項 \n",
      "作者qazwsx879345\n",
      "時間10/25\n",
      "標題[情報] SEASON Schedule 賽程 March 19–20\n",
      "作者Acetoxy\n",
      "時間 3/02\n",
      "標題[公告] 第一次被退文，可在三天後刪除退文\n",
      "作者Vedan\n",
      "時間 3/09\n",
      "標題[公告] 板務說明 (發錢)\n",
      "作者Vedan\n",
      "時間 4/03\n"
     ]
    }
   ],
   "source": [
    "'''\n",
    "Your Code\n",
    "'''\n",
    "import requests\n",
    "from bs4 import BeautifulSoup\n",
    "\n",
    "url = 'https://www.ptt.cc/bbs/NBA/index.html'\n",
    "r = requests.get(url)\n",
    "\n",
    "soup = BeautifulSoup(r.text, \"html5lib\")\n",
    "\n",
    "for i in range(len(soup.find_all(class_ = 'title'))):\n",
    "    print('標題'+soup.find_all(class_ = 'title')[i].text.replace('\\t', '').replace('\\n', ''))\n",
    "    print('作者'+soup.find_all(class_ = 'author')[i].text)\n",
    "    print('時間'+soup.find_all(class_ = 'date')[i].text)"
   ]
  },
  {
   "cell_type": "markdown",
   "metadata": {},
   "source": [
    "### ③ 試著爬爬看其他版的文章"
   ]
  },
  {
   "cell_type": "code",
   "execution_count": 45,
   "metadata": {},
   "outputs": [
    {
     "name": "stdout",
     "output_type": "stream",
     "text": [
      "標題[新聞] 費爾本快問快答最愛隊友陳鏞基 強調CPBL\n",
      "作者girl10319\n",
      "時間 6/16\n",
      "標題[新聞] 知道味全龍缺捕手　蔣少宏來測試會\n",
      "作者aszxcvn\n",
      "時間 6/16\n",
      "標題Re: [新聞] 「每隊都有天天系」　吳德威爭取一軍28人\n",
      "作者Allen524\n",
      "時間 6/16\n",
      "標題[閒聊] 阪神球員在甲子園收集黑土\n",
      "作者Ulysses\n",
      "時間 6/16\n",
      "標題[閒聊] 中職有叫聲特別奇怪的裁判嗎？\n",
      "作者gundamx7812\n",
      "時間 6/16\n",
      "標題[新聞] SPC-王柏融競爭者又挨罵 日媒辣評火腿2人\n",
      "作者Intelnet\n",
      "時間 6/16\n",
      "標題[新聞] 平鎮打基底　味全教練團讚劉基鴻老成\n",
      "作者thnlkj0665\n",
      "時間 6/16\n",
      "標題[新聞] 中職》二軍也爆 洛奇投不完3局失6分\n",
      "作者Toyosushij\n",
      "時間 6/16\n",
      "標題[閒聊] 二軍邦魯閣\n",
      "作者jones210272\n",
      "時間 6/16\n",
      "標題[新聞] 不妙！大聯盟證實有球員確診新冠肺炎\n",
      "作者cena0605\n",
      "時間 6/16\n",
      "標題[新聞] 中職／救救富邦打擊　索沙帶來多明尼加\n",
      "作者star07\n",
      "時間 6/16\n",
      "標題[情報] 球員異動\n",
      "作者yasan1029\n",
      "時間 6/16\n",
      "標題[新聞] 尼爾托農場經驗豐富 味全選秀看投捕更專\n",
      "作者leonjapan\n",
      "時間 6/16\n",
      "標題[炸裂] 杜家明雙響砲!\n",
      "作者sam92084\n",
      "時間 6/16\n",
      "標題[新聞] 擔心被打太慘 味全提案28人\n",
      "作者mongi\n",
      "時間 6/16\n",
      "標題[公告] 板規/即時資訊\n",
      "作者tmlc\n",
      "時間 3/20\n",
      "標題[整理] 2020棒球賽事轉播節目表\n",
      "作者johnnyckvs\n",
      "時間 1/01\n",
      "標題[賽程] 2020中華職棒31年 第三版賽程表\n",
      "作者hicker\n",
      "時間 4/01\n",
      "標題[賽程] 2020中華職棒31年 二軍賽程表(~7/05)\n",
      "作者hicker\n",
      "時間 3/04\n",
      "標題[公告] Baseball 板 開始舉辦樂透!\n",
      "作者tmlc\n",
      "時間 6/14\n"
     ]
    }
   ],
   "source": [
    "'''\n",
    "Your Code\n",
    "'''\n",
    "import requests\n",
    "from bs4 import BeautifulSoup\n",
    "\n",
    "url = 'https://www.ptt.cc/bbs/Baseball/index.html'\n",
    "r = requests.get(url)\n",
    "\n",
    "soup = BeautifulSoup(r.text, \"html5lib\")\n",
    "\n",
    "for i in range(len(soup.find_all(class_ = 'title'))):\n",
    "    print('標題'+soup.find_all(class_ = 'title')[i].text.replace('\\t', '').replace('\\n', ''))\n",
    "    print('作者'+soup.find_all(class_ = 'author')[i].text)\n",
    "    print('時間'+soup.find_all(class_ = 'date')[i].text)"
   ]
  },
  {
   "cell_type": "code",
   "execution_count": null,
   "metadata": {},
   "outputs": [],
   "source": []
  }
 ],
 "metadata": {
  "kernelspec": {
   "display_name": "Python 3",
   "language": "python",
   "name": "python3"
  },
  "language_info": {
   "codemirror_mode": {
    "name": "ipython",
    "version": 3
   },
   "file_extension": ".py",
   "mimetype": "text/x-python",
   "name": "python",
   "nbconvert_exporter": "python",
   "pygments_lexer": "ipython3",
   "version": "3.7.6"
  }
 },
 "nbformat": 4,
 "nbformat_minor": 2
}
