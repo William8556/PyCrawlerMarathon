{
 "cells": [
  {
   "cell_type": "markdown",
   "metadata": {},
   "source": [
    "# 加速：非同步爬蟲\n",
    "\n",
    "* 了解非同步爬蟲加速原理與實作"
   ]
  },
  {
   "cell_type": "markdown",
   "metadata": {},
   "source": [
    "## 作業目標\n",
    "\n",
    "* 比較一下非同步爬蟲跟多線程爬蟲的差異是什麼？各自的優缺點為何？"
   ]
  },
  {
   "cell_type": "code",
   "execution_count": 9,
   "metadata": {
    "scrolled": true
   },
   "outputs": [
    {
     "name": "stdout",
     "output_type": "stream",
     "text": [
      "['https://rate.bot.com.tw/xrt?Lang=zh-TW', 'https://rate.bot.com.tw/xrt?Lang=zh-TW', 'https://rate.bot.com.tw/xrt?Lang=zh-TW', 'https://rate.bot.com.tw/xrt?Lang=zh-TW', 'https://rate.bot.com.tw/xrt?Lang=zh-TW']\n",
      "Async total time: 2.8506598472595215\n"
     ]
    }
   ],
   "source": [
    "'''\n",
    "Your Input\n",
    "'''\n",
    "#非同步爬蟲\n",
    "\n",
    "import aiohttp, asyncio\n",
    "import nest_asyncio\n",
    "import requests, time\n",
    "\n",
    "URL = 'https://rate.bot.com.tw/xrt?Lang=zh-TW'\n",
    "nest_asyncio.apply()\n",
    "\n",
    "async def job(session):\n",
    "    response = await session.get(URL)                               #等待並切換\n",
    "    return str(response.url)\n",
    "\n",
    "async def main(loop):\n",
    "    async with aiohttp.ClientSession() as session:                  #官網推薦建立Session的形式,也可以直接用request\n",
    "        tasks = [loop.create_task(job(session)) for _ in range(5)]\n",
    "        finished, unfinished = await asyncio.wait(tasks)            #收集完成的結果,會返回完成的和沒完成的,等全部都完成了才返回\n",
    "        all_results = [r.result() for r in finished]                #獲取所有結果\n",
    "        print(all_results)\n",
    "\n",
    "t1 = time.time()\n",
    "loop = asyncio.get_event_loop()\n",
    "loop.run_until_complete(main(loop))\n",
    "# loop.close()\n",
    "print(\"Async total time:\", time.time() - t1)"
   ]
  },
  {
   "cell_type": "code",
   "execution_count": 2,
   "metadata": {},
   "outputs": [
    {
     "name": "stdout",
     "output_type": "stream",
     "text": [
      "https://rate.bot.com.tw/xrt?Lang=zh-TW\n",
      "https://rate.bot.com.tw/xrt?Lang=zh-TW\n",
      "https://rate.bot.com.tw/xrt?Lang=zh-TW\n",
      "https://rate.bot.com.tw/xrt?Lang=zh-TW\n",
      "https://rate.bot.com.tw/xrt?Lang=zh-TW\n",
      "0.0008039474487304688\n"
     ]
    },
    {
     "name": "stderr",
     "output_type": "stream",
     "text": [
      "Unclosed connection\n",
      "client_connection: Connection<ConnectionKey(host='morvanzhou.github.io', port=443, is_ssl=True, ssl=None, proxy=None, proxy_auth=None, proxy_headers_hash=None)>\n"
     ]
    }
   ],
   "source": [
    "#多線程爬蟲\n",
    "\n",
    "import requests\n",
    "import _thread\n",
    "import time\n",
    "\n",
    "urls = ['https://rate.bot.com.tw/xrt?Lang=zh-TW', 'https://rate.bot.com.tw/xrt?Lang=zh-TW', 'https://rate.bot.com.tw/xrt?Lang=zh-TW',\n",
    "        'https://rate.bot.com.tw/xrt?Lang=zh-TW', 'https://rate.bot.com.tw/xrt?Lang=zh-TW']\n",
    "\n",
    "startTime = time.time()\n",
    "\n",
    "for url in urls:\n",
    "    _thread.start_new_thread(requests.get, (url,))\n",
    "    print(url)\n",
    "\n",
    "finishTime = time.time()\n",
    "print(finishTime - startTime) # 利用 thread 的爬蟲所需時間"
   ]
  },
  {
   "cell_type": "markdown",
   "metadata": {},
   "source": [
    "> 線程較省資源。\n",
    "\n",
    "> 多線程和多進程的缺點是在IO阻塞時會造成了線程和進程的浪費，所以非同步IO是更好的方式。 非同步IO請求的本質則是非阻塞Socket + IO多路復用。這裡只需要一個線程，而每一個請求則是一個協程。 \n",
    "\n",
    ">資料來源：https://codingnote.cc/zh-tw/p/49958"
   ]
  },
  {
   "cell_type": "code",
   "execution_count": null,
   "metadata": {},
   "outputs": [],
   "source": []
  }
 ],
 "metadata": {
  "colab": {
   "name": "homework.ipynb",
   "provenance": []
  },
  "kernelspec": {
   "display_name": "Python 3",
   "language": "python",
   "name": "python3"
  },
  "language_info": {
   "codemirror_mode": {
    "name": "ipython",
    "version": 3
   },
   "file_extension": ".py",
   "mimetype": "text/x-python",
   "name": "python",
   "nbconvert_exporter": "python",
   "pygments_lexer": "ipython3",
   "version": "3.7.6"
  }
 },
 "nbformat": 4,
 "nbformat_minor": 1
}
